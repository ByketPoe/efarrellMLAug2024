{
 "cells": [
  {
   "cell_type": "markdown",
   "metadata": {},
   "source": [
    "# Tasks"
   ]
  },
  {
   "cell_type": "markdown",
   "metadata": {},
   "source": [
    "#### Introduction to the abaolne data set\n"
   ]
  },
  {
   "cell_type": "markdown",
   "metadata": {},
   "source": []
  },
  {
   "cell_type": "code",
   "execution_count": 4,
   "metadata": {},
   "outputs": [
    {
     "data": {
      "text/html": [
       "<div>\n",
       "<style scoped>\n",
       "    .dataframe tbody tr th:only-of-type {\n",
       "        vertical-align: middle;\n",
       "    }\n",
       "\n",
       "    .dataframe tbody tr th {\n",
       "        vertical-align: top;\n",
       "    }\n",
       "\n",
       "    .dataframe thead th {\n",
       "        text-align: right;\n",
       "    }\n",
       "</style>\n",
       "<table border=\"1\" class=\"dataframe\">\n",
       "  <thead>\n",
       "    <tr style=\"text-align: right;\">\n",
       "      <th></th>\n",
       "      <th>sex</th>\n",
       "      <th>length</th>\n",
       "      <th>diameter</th>\n",
       "      <th>height</th>\n",
       "      <th>whole_weight</th>\n",
       "      <th>shucked_weight</th>\n",
       "      <th>viscera_weight</th>\n",
       "      <th>shell_weight</th>\n",
       "      <th>rings</th>\n",
       "    </tr>\n",
       "  </thead>\n",
       "  <tbody>\n",
       "    <tr>\n",
       "      <th>0</th>\n",
       "      <td>M</td>\n",
       "      <td>0.455</td>\n",
       "      <td>0.365</td>\n",
       "      <td>0.095</td>\n",
       "      <td>0.5140</td>\n",
       "      <td>0.2245</td>\n",
       "      <td>0.1010</td>\n",
       "      <td>0.1500</td>\n",
       "      <td>15</td>\n",
       "    </tr>\n",
       "    <tr>\n",
       "      <th>1</th>\n",
       "      <td>M</td>\n",
       "      <td>0.350</td>\n",
       "      <td>0.265</td>\n",
       "      <td>0.090</td>\n",
       "      <td>0.2255</td>\n",
       "      <td>0.0995</td>\n",
       "      <td>0.0485</td>\n",
       "      <td>0.0700</td>\n",
       "      <td>7</td>\n",
       "    </tr>\n",
       "    <tr>\n",
       "      <th>2</th>\n",
       "      <td>F</td>\n",
       "      <td>0.530</td>\n",
       "      <td>0.420</td>\n",
       "      <td>0.135</td>\n",
       "      <td>0.6770</td>\n",
       "      <td>0.2565</td>\n",
       "      <td>0.1415</td>\n",
       "      <td>0.2100</td>\n",
       "      <td>9</td>\n",
       "    </tr>\n",
       "    <tr>\n",
       "      <th>3</th>\n",
       "      <td>M</td>\n",
       "      <td>0.440</td>\n",
       "      <td>0.365</td>\n",
       "      <td>0.125</td>\n",
       "      <td>0.5160</td>\n",
       "      <td>0.2155</td>\n",
       "      <td>0.1140</td>\n",
       "      <td>0.1550</td>\n",
       "      <td>10</td>\n",
       "    </tr>\n",
       "    <tr>\n",
       "      <th>4</th>\n",
       "      <td>I</td>\n",
       "      <td>0.330</td>\n",
       "      <td>0.255</td>\n",
       "      <td>0.080</td>\n",
       "      <td>0.2050</td>\n",
       "      <td>0.0895</td>\n",
       "      <td>0.0395</td>\n",
       "      <td>0.0550</td>\n",
       "      <td>7</td>\n",
       "    </tr>\n",
       "    <tr>\n",
       "      <th>...</th>\n",
       "      <td>...</td>\n",
       "      <td>...</td>\n",
       "      <td>...</td>\n",
       "      <td>...</td>\n",
       "      <td>...</td>\n",
       "      <td>...</td>\n",
       "      <td>...</td>\n",
       "      <td>...</td>\n",
       "      <td>...</td>\n",
       "    </tr>\n",
       "    <tr>\n",
       "      <th>4172</th>\n",
       "      <td>F</td>\n",
       "      <td>0.565</td>\n",
       "      <td>0.450</td>\n",
       "      <td>0.165</td>\n",
       "      <td>0.8870</td>\n",
       "      <td>0.3700</td>\n",
       "      <td>0.2390</td>\n",
       "      <td>0.2490</td>\n",
       "      <td>11</td>\n",
       "    </tr>\n",
       "    <tr>\n",
       "      <th>4173</th>\n",
       "      <td>M</td>\n",
       "      <td>0.590</td>\n",
       "      <td>0.440</td>\n",
       "      <td>0.135</td>\n",
       "      <td>0.9660</td>\n",
       "      <td>0.4390</td>\n",
       "      <td>0.2145</td>\n",
       "      <td>0.2605</td>\n",
       "      <td>10</td>\n",
       "    </tr>\n",
       "    <tr>\n",
       "      <th>4174</th>\n",
       "      <td>M</td>\n",
       "      <td>0.600</td>\n",
       "      <td>0.475</td>\n",
       "      <td>0.205</td>\n",
       "      <td>1.1760</td>\n",
       "      <td>0.5255</td>\n",
       "      <td>0.2875</td>\n",
       "      <td>0.3080</td>\n",
       "      <td>9</td>\n",
       "    </tr>\n",
       "    <tr>\n",
       "      <th>4175</th>\n",
       "      <td>F</td>\n",
       "      <td>0.625</td>\n",
       "      <td>0.485</td>\n",
       "      <td>0.150</td>\n",
       "      <td>1.0945</td>\n",
       "      <td>0.5310</td>\n",
       "      <td>0.2610</td>\n",
       "      <td>0.2960</td>\n",
       "      <td>10</td>\n",
       "    </tr>\n",
       "    <tr>\n",
       "      <th>4176</th>\n",
       "      <td>M</td>\n",
       "      <td>0.710</td>\n",
       "      <td>0.555</td>\n",
       "      <td>0.195</td>\n",
       "      <td>1.9485</td>\n",
       "      <td>0.9455</td>\n",
       "      <td>0.3765</td>\n",
       "      <td>0.4950</td>\n",
       "      <td>12</td>\n",
       "    </tr>\n",
       "  </tbody>\n",
       "</table>\n",
       "<p>4177 rows × 9 columns</p>\n",
       "</div>"
      ],
      "text/plain": [
       "     sex  length  diameter  height  whole_weight  shucked_weight  \\\n",
       "0      M   0.455     0.365   0.095        0.5140          0.2245   \n",
       "1      M   0.350     0.265   0.090        0.2255          0.0995   \n",
       "2      F   0.530     0.420   0.135        0.6770          0.2565   \n",
       "3      M   0.440     0.365   0.125        0.5160          0.2155   \n",
       "4      I   0.330     0.255   0.080        0.2050          0.0895   \n",
       "...   ..     ...       ...     ...           ...             ...   \n",
       "4172   F   0.565     0.450   0.165        0.8870          0.3700   \n",
       "4173   M   0.590     0.440   0.135        0.9660          0.4390   \n",
       "4174   M   0.600     0.475   0.205        1.1760          0.5255   \n",
       "4175   F   0.625     0.485   0.150        1.0945          0.5310   \n",
       "4176   M   0.710     0.555   0.195        1.9485          0.9455   \n",
       "\n",
       "      viscera_weight  shell_weight  rings  \n",
       "0             0.1010        0.1500     15  \n",
       "1             0.0485        0.0700      7  \n",
       "2             0.1415        0.2100      9  \n",
       "3             0.1140        0.1550     10  \n",
       "4             0.0395        0.0550      7  \n",
       "...              ...           ...    ...  \n",
       "4172          0.2390        0.2490     11  \n",
       "4173          0.2145        0.2605     10  \n",
       "4174          0.2875        0.3080      9  \n",
       "4175          0.2610        0.2960     10  \n",
       "4176          0.3765        0.4950     12  \n",
       "\n",
       "[4177 rows x 9 columns]"
      ]
     },
     "execution_count": 4,
     "metadata": {},
     "output_type": "execute_result"
    }
   ],
   "source": [
    "import pandas as pd \n",
    "import seaborn as sns\n",
    "\n",
    "df = pd.read_csv('abalone.csv')\n",
    "df"
   ]
  },
  {
   "cell_type": "markdown",
   "metadata": {},
   "source": [
    "3 Within the notebook, discuss the classification of each variable (sex, length, diameter etc.) in the dataset based on common variable types (categorical, continuous, integer) and measurement scales (mm, grams etc) in mathematics, statistics, and Python."
   ]
  },
  {
   "cell_type": "markdown",
   "metadata": {},
   "source": [
    "## Types and Scales of Variables Used\n",
    "#### Types\n",
    "Sex is a categorical variable.\n",
    "Length, diameter, height, whole_weight, shucked_weight, viscera_weight and shell weight are continuous.\n",
    "Rings are integers. \n",
    "\n",
    "It is important to consider the difference between data types before beginning analysis, as they will influence the type of calculations that can be done. Categorical types of data assign the observed result to one of a few fixed, finite categories. In this case, the observation can be Female, Male or Infant. The rest of the data types are numeric; the length and mass measurements are continuous and the rings are integers. Continuous means that the numbers are real, and include all decimal numbers between whole numbers. Integers refers to whole numbers only. This makes sense when one thinks about the fact that it is a count of the number of rings found in the shell of the abalone - it would be difficult to have a fraction of a ring. \n",
    "\n",
    "#### Scale\n",
    "\n",
    "Categorical values do not have numerical scale, the data just sits in the appropriate category it belongs to.\n",
    "The continuous data in this dataset are made up of length measurements (in mm) and mass measurements (in grams). \n",
    "\n",
    "Having all lengths of the same unit and all masses of the same units of measurement makes it easier to compare lengths with each other and masses with each other. No unit conversion needs to take place within the Python code to scale all of the measurements with each other, and summary statistics such as average and standard deviation can be compared between different variables with no mathematical manipulation required. {scale when plotting}{scale if different units}{plotting logarithmically if data isn't close enough in scale}\n",
    "\n",
    "If one wanted to do some rudimentary density calculations, this could be possible with the assumption of the Abalone specimens having an ellipsoid shape. Density is measured as mass per unit volume. The length measurements could be used to calculate volume {insert calculation}, but this would need to be converted from mm3 to cm3. \n",
    "\n",
    "#### Inputs vs outputs\n",
    "When doing analysis below, all variables except Rings will be considered to be Input variables. This is because it is hoped that these input variables can be used to predict the output variable, age (which is known by the number of rings). "
   ]
  },
  {
   "cell_type": "markdown",
   "metadata": {},
   "source": [
    "## Summary statistics\n",
    "Sex / nominal / -- / M, F, and I (infant)\n",
    "For nominal/categorical data, calculations such as average/standard deviation are not possible. What is more appropriate here is to show the frequency of occurence for each category as well as a total count of samples. When using the .describe() function on non-numeric data, pandas reverts to the following summary data:"
   ]
  },
  {
   "cell_type": "code",
   "execution_count": 8,
   "metadata": {},
   "outputs": [
    {
     "data": {
      "text/plain": [
       "count     4177\n",
       "unique       3\n",
       "top          M\n",
       "freq      1528\n",
       "Name: sex, dtype: object"
      ]
     },
     "execution_count": 8,
     "metadata": {},
     "output_type": "execute_result"
    }
   ],
   "source": [
    "sdf = df['sex']\n",
    "sdf\n",
    "sdf.describe()"
   ]
  },
  {
   "cell_type": "markdown",
   "metadata": {},
   "source": [
    "The 'unique' result above tells us there are 3 possible categories, which we know are M, F and I. The 'top' result tells us that there are majority M, occuring at a frequency 'freq' of 1528. Out of a total count of 4177, this is over a third of the results. "
   ]
  },
  {
   "cell_type": "code",
   "execution_count": 10,
   "metadata": {},
   "outputs": [
    {
     "data": {
      "text/plain": [
       "0.3658127842949485"
      ]
     },
     "execution_count": 10,
     "metadata": {},
     "output_type": "execute_result"
    }
   ],
   "source": [
    "1528/sdf.count()"
   ]
  },
  {
   "cell_type": "code",
   "execution_count": 11,
   "metadata": {},
   "outputs": [
    {
     "data": {
      "text/plain": [
       "0        True\n",
       "1        True\n",
       "2       False\n",
       "3        True\n",
       "4       False\n",
       "        ...  \n",
       "4172    False\n",
       "4173     True\n",
       "4174     True\n",
       "4175    False\n",
       "4176     True\n",
       "Name: sex, Length: 4177, dtype: bool"
      ]
     },
     "execution_count": 11,
     "metadata": {},
     "output_type": "execute_result"
    }
   ],
   "source": [
    "df['sex']=='M'"
   ]
  },
  {
   "cell_type": "markdown",
   "metadata": {},
   "source": [
    "Length / continuous / mm / Longest shell measurement\n",
    "\n",
    "Diameter\t/ continuous / mm / perpendicular to length\n",
    "Height / continuous / mm / with meat in sh\n",
    "Average, std dev, median, min, max, correlation\n",
    "ell\n",
    "Whole weight / continuous / grams / whole abalone\n",
    "Shucked weight / continuous\t / grams / weight of meat\n",
    "Viscera weight / continuous / grams / gut weight (after bleeding)\n",
    "Shell weight / continuous / grams / after bein\n",
    "Average, std dev, median, min, max, correlation\n",
    "g dried\n",
    "Rings / integer / -- / +1.5 gives the age \n",
    "Average, std dev, median, mode, min, max in years"
   ]
  },
  {
   "cell_type": "markdown",
   "metadata": {},
   "source": [
    "#### "
   ]
  },
  {
   "cell_type": "markdown",
   "metadata": {},
   "source": [
    "5 Select, demonstrate, and explain the most suitable plot(s) for each variable.\n",
    "How is the data distributed? \n",
    "\n",
    "Type of data will inform plot choice.\n",
    "pairplot, violin plot, stripplot, box plot, count plot (sex), barplot, swarm plot, strip plot (https://www.geeksforgeeks.org/plotting-graph-using-seaborn-python/)\n",
    "Sex - countplot\n",
    "\n"
   ]
  },
  {
   "cell_type": "markdown",
   "metadata": {},
   "source": [
    "As stated above, sex is a categorical variable without numeric value. The most suitable plot for this variable is a histogram, which displays the frequency of occurence in the data set for each category.\n",
    "\n",
    "Doesn't make intuitive sense to plot sex against age\n",
    "For all other plots, colour code sex to show relationships"
   ]
  },
  {
   "cell_type": "code",
   "execution_count": 17,
   "metadata": {},
   "outputs": [
    {
     "data": {
      "text/plain": [
       "<Axes: xlabel='sex', ylabel='count'>"
      ]
     },
     "execution_count": 17,
     "metadata": {},
     "output_type": "execute_result"
    },
    {
     "data": {
      "image/png": "[encoded data removed]",
      "text/plain": [
       "<Figure size 640x480 with 1 Axes>"
      ]
     },
     "metadata": {},
     "output_type": "display_data"
    }
   ],
   "source": [
    "sns.countplot(data = df, x ='sex')"
   ]
  },
  {
   "cell_type": "markdown",
   "metadata": {},
   "source": [
    "The distribution of the data approximates a uniform distribution. For this type of data, this is called a Categorical Distribution. This tells us that all of the abalone samples are approximately equally likely to be either Male, Female or an Infant, which makes intuitive sense when you think about the fact that animals are equally likely to be male or female. (Show adult vs infant)\n",
    "\n",
    "Histograms can also be used for numerical data.\n",
    "\n"
   ]
  },
  {
   "cell_type": "code",
   "execution_count": null,
   "metadata": {},
   "outputs": [],
   "source": []
  },
  {
   "cell_type": "code",
   "execution_count": null,
   "metadata": {},
   "outputs": [],
   "source": [
    "#lendf = df.iloc[:, 'sex':'length']\n",
    "lendf = df[['sex','length']]\n",
    "lendf\n",
    "sns.displot(lendf, x='length', hue = 'sex', element='step')"
   ]
  },
  {
   "cell_type": "markdown",
   "metadata": {},
   "source": [
    "For the next phase of plotting, it will be useful to colour code the sex variable to see how it affects the distribution of other variables.\n",
    "\n",
    "Histograms for all? why/why not?\n",
    "all numerical variables distributed against themselves (include rings)"
   ]
  },
  {
   "cell_type": "markdown",
   "metadata": {},
   "source": [
    "all numerical variables scatterplot against rings (exclude rings)\n"
   ]
  },
  {
   "cell_type": "code",
   "execution_count": null,
   "metadata": {},
   "outputs": [],
   "source": [
    "sns.pairplot(df, hue = 'sex', y_vars = 'rings')#y_vars = 'rings'"
   ]
  },
  {
   "cell_type": "markdown",
   "metadata": {},
   "source": [
    "# Project\n",
    "Conduct an analysis of classification algorithms applied to the abalone.csv data set. Begin by explaining supervised learning and the concept of classification algorithms.\n",
    "Describe at least one common classification algorithm and demonstrate it using the scikit-learn Python library. Throughout the notebook, use appropriate plots, mathematical notation, and diagrams to explain the relevant concepts."
   ]
  },
  {
   "cell_type": "markdown",
   "metadata": {},
   "source": [
    "supervised learning "
   ]
  },
  {
   "cell_type": "markdown",
   "metadata": {},
   "source": []
  },
  {
   "cell_type": "markdown",
   "metadata": {},
   "source": [
    "The concept of classification algorithms."
   ]
  },
  {
   "cell_type": "markdown",
   "metadata": {},
   "source": []
  },
  {
   "cell_type": "markdown",
   "metadata": {},
   "source": [
    "Rings show age (+1.5 gives age in years), so these will be the outputs used to train the dataset. \n",
    "\n",
    "Classification algorithms:\n",
    "kNN\n"
   ]
  },
  {
   "cell_type": "markdown",
   "metadata": {},
   "source": [
    "# References"
   ]
  },
  {
   "cell_type": "markdown",
   "metadata": {},
   "source": [
    "1. UC Irvine Machine Learning Repository - information on Abalone dataset https://archive.ics.uci.edu/dataset/1/abalone\n",
    "2. Categorical Variables - https://statisticsbyjim.com/glossary/categorical-variables/"
   ]
  },
  {
   "cell_type": "code",
   "execution_count": null,
   "metadata": {},
   "outputs": [],
   "source": []
  }
 ],
 "metadata": {
  "kernelspec": {
   "display_name": "Python 3 (ipykernel)",
   "language": "python",
   "name": "python3"
  },
  "language_info": {
   "codemirror_mode": {
    "name": "ipython",
    "version": 3
   },
   "file_extension": ".py",
   "mimetype": "text/x-python",
   "name": "python",
   "nbconvert_exporter": "python",
   "pygments_lexer": "ipython3",
   "version": "3.12.4"
  }
 },
 "nbformat": 4,
 "nbformat_minor": 4
}
